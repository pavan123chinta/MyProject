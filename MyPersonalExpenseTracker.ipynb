{
 "cells": [
  {
   "cell_type": "markdown",
   "id": "a7f92239",
   "metadata": {},
   "source": [
    "# My Personal Expense Tracker"
   ]
  },
  {
   "cell_type": "code",
   "execution_count": 1,
   "id": "a0ec979b",
   "metadata": {},
   "outputs": [],
   "source": [
    "import csv\n",
    "\n",
    "# Global variables\n",
    "expenses = []\n",
    "budget = 0.0"
   ]
  },
  {
   "cell_type": "code",
   "execution_count": null,
   "id": "b5993604",
   "metadata": {},
   "outputs": [],
   "source": [
    "def add_expense(date, category, amount, description):\n",
    "    try:\n",
    "        amount = float(amount)\n",
    "    except ValueError:\n",
    "        print(\"Invalid amount. Must be a number.\")\n",
    "        return\n",
    "\n",
    "    expense = {\n",
    "        'date': date,\n",
    "        'category': category,\n",
    "        'amount': amount,\n",
    "        'description': description\n",
    "    }\n",
    "    expenses.append(expense)\n",
    "    print(\"Expense added successfully!\")"
   ]
  },
  {
   "cell_type": "code",
   "execution_count": 4,
   "id": "9e10fca8",
   "metadata": {},
   "outputs": [],
   "source": [
    "def view_expenses():\n",
    "    if not expenses:\n",
    "        print(\"No expenses recorded yet.\")\n",
    "        return\n",
    "\n",
    "    print(\"\\nAll Expenses:\")\n",
    "    print(\"-\" * 40)\n",
    "    for idx, expense in enumerate(expenses, 1):\n",
    "        if all(k in expense for k in ('date', 'category', 'amount', 'description')):\n",
    "            print(f\"{idx}. Date: {expense['date']}\")\n",
    "            print(f\"   Category: {expense['category']}\")\n",
    "            print(f\"   Amount: ₹{expense['amount']}\")\n",
    "            print(f\"   Description: {expense['description']}\")\n",
    "            print(\"-\" * 40)\n",
    "        else:\n",
    "            print(f\"{idx}. Incomplete entry skipped.\")"
   ]
  },
  {
   "cell_type": "code",
   "execution_count": 5,
   "id": "29368081",
   "metadata": {},
   "outputs": [],
   "source": [
    "def set_budget(amount):\n",
    "    global budget\n",
    "    try:\n",
    "        budget = float(amount)\n",
    "        print(f\"Monthly budget set to ₹{budget}\")\n",
    "    except ValueError:\n",
    "        print(\"Invalid input. Please enter a number.\")\n",
    "\n",
    "def track_budget():\n",
    "    total_spent = sum(expense['amount'] for expense in expenses if 'amount' in expense)\n",
    "    print(f\"\\nTotal spent so far: ₹{total_spent}\")\n",
    "    if budget == 0:\n",
    "        print(\"No budget set yet.\")\n",
    "    elif total_spent > budget:\n",
    "        print(\"Budget exceeded by ₹{:.2f}\".format(total_spent - budget))\n",
    "    else:\n",
    "        print(\"Remaining balance: ₹{:.2f}\".format(budget - total_spent))\n"
   ]
  },
  {
   "cell_type": "code",
   "execution_count": 6,
   "id": "2b8b330e",
   "metadata": {},
   "outputs": [],
   "source": [
    "def save_expenses_to_file(filename=\"expenses.csv\"):\n",
    "    try:\n",
    "        with open(filename, mode='w', newline='') as file:\n",
    "            writer = csv.DictWriter(file, fieldnames=['date', 'category', 'amount', 'description'])\n",
    "            writer.writeheader()\n",
    "            writer.writerows(expenses)\n",
    "        print(f\"Expenses saved to '{filename}'\")\n",
    "    except Exception as e:\n",
    "        print(f\"Error saving file: {e}\")\n",
    "\n",
    "def load_expenses_from_file(filename=\"expenses.csv\"):\n",
    "    try:\n",
    "        with open(filename, mode='r') as file:\n",
    "            reader = csv.DictReader(file)\n",
    "            for row in reader:\n",
    "                try:\n",
    "                    row['amount'] = float(row['amount'])\n",
    "                    expenses.append(row)\n",
    "                except ValueError:\n",
    "                    print(\"Skipping invalid entry.\")\n",
    "        print(f\"Loaded expenses from '{filename}'\")\n",
    "    except FileNotFoundError:\n",
    "        print(\"No existing file. Starting fresh.\")\n",
    "    except Exception as e:\n",
    "        print(f\"Error reading file: {e}\")\n"
   ]
  },
  {
   "cell_type": "code",
   "execution_count": 7,
   "id": "e62dc708",
   "metadata": {},
   "outputs": [
    {
     "name": "stdout",
     "output_type": "stream",
     "text": [
      "No existing file. Starting fresh.\n",
      "✅ Expense added successfully!\n",
      "✅ Expense added successfully!\n",
      "\n",
      "All Expenses:\n",
      "----------------------------------------\n",
      "1. Date: 2024-09-18\n",
      "   Category: Food\n",
      "   Amount: ₹250.0\n",
      "   Description: Lunch with friends\n",
      "----------------------------------------\n",
      "2. Date: 2024-09-19\n",
      "   Category: Travel\n",
      "   Amount: ₹80.0\n",
      "   Description: Metro pass\n",
      "----------------------------------------\n",
      "Monthly budget set to ₹1000.0\n",
      "\n",
      "Total spent so far: ₹330.0\n",
      "Remaining balance: ₹670.00\n",
      "Expenses saved to 'expenses.csv'\n"
     ]
    }
   ],
   "source": [
    "# Load any existing expenses\n",
    "load_expenses_from_file()\n",
    "\n",
    "# Add test expenses manually\n",
    "add_expense(\"2024-09-18\", \"Food\", 250, \"Lunch with friends\")\n",
    "add_expense(\"2024-09-19\", \"Travel\", 80, \"Metro pass\")\n",
    "\n",
    "# View them\n",
    "view_expenses()\n",
    "\n",
    "# Set a budget\n",
    "set_budget(1000)\n",
    "\n",
    "# Track current budget status\n",
    "track_budget()\n",
    "\n",
    "# Save current state\n",
    "save_expenses_to_file()\n"
   ]
  }
 ],
 "metadata": {
  "kernelspec": {
   "display_name": "base",
   "language": "python",
   "name": "python3"
  },
  "language_info": {
   "codemirror_mode": {
    "name": "ipython",
    "version": 3
   },
   "file_extension": ".py",
   "mimetype": "text/x-python",
   "name": "python",
   "nbconvert_exporter": "python",
   "pygments_lexer": "ipython3",
   "version": "3.12.8"
  }
 },
 "nbformat": 4,
 "nbformat_minor": 5
}
